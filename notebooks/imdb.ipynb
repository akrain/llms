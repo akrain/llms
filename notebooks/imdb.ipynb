{
 "cells": [
  {
   "cell_type": "code",
   "execution_count": null,
   "id": "6922d129-5d6d-4895-84ab-a44242942eed",
   "metadata": {},
   "outputs": [],
   "source": [
    "%pip install pandas\n",
    "%pip install matplotlib"
   ]
  },
  {
   "cell_type": "code",
   "execution_count": null,
   "id": "f2b1d9d84115faeb",
   "metadata": {},
   "outputs": [],
   "source": [
    "import pandas as pd\n",
    "\n",
    "df = pd.read_csv(\"../data/imdb_top_1000.csv\")\n",
    "len(df)"
   ]
  },
  {
   "cell_type": "code",
   "execution_count": null,
   "id": "9ba4d580-4258-4490-8419-8678a7fdf2ab",
   "metadata": {},
   "outputs": [],
   "source": [
    "df.describe()"
   ]
  },
  {
   "cell_type": "code",
   "execution_count": null,
   "id": "71dbd0f556485c89",
   "metadata": {},
   "outputs": [],
   "source": [
    "df.head()"
   ]
  },
  {
   "cell_type": "code",
   "execution_count": null,
   "id": "d0f20fdc-fdb5-4c16-945d-b4e70c560159",
   "metadata": {
    "scrolled": true
   },
   "outputs": [],
   "source": [
    "df[\"combined\"]= \"Title: \" + df[\"Series_Title\"] + \" Genre: \" + df[\"Genre\"] + \" Summary: \" + df[\"Overview\"] + \" Director: \" + df[\"Director\"] + \" Actor: \" + df[\"Star1\"] + \" Actor: \" + df[\"Star2\"] + \" Actor: \" + df[\"Star3\"] + \" Actor: \" + df[\"Star4\"]\n",
    "df.combined[0:1]"
   ]
  },
  {
   "cell_type": "code",
   "execution_count": null,
   "id": "cf6491b3-7344-4a3c-8b39-d4c1c4203906",
   "metadata": {},
   "outputs": [],
   "source": [
    "df.combined.to_list()"
   ]
  },
  {
   "cell_type": "code",
   "execution_count": 8,
   "id": "5e2c9d1b-fb8a-4709-8708-d073f23778a5",
   "metadata": {},
   "outputs": [],
   "source": [
    "import sqlite3\n",
    "import os\n",
    "\n",
    "if os.path.exists('../data/test.db'):\n",
    "    os.remove('../data/test.db')\n",
    "\n",
    "# Connect to database\n",
    "conn = sqlite3.connect(\"../data/test.db\")\n",
    "c = conn.cursor()"
   ]
  },
  {
   "cell_type": "code",
   "execution_count": null,
   "id": "5837e97f-c12f-4d07-8a38-2a69b99bc3b4",
   "metadata": {},
   "outputs": [],
   "source": [
    "df.to_sql(\"imdb\", conn)"
   ]
  },
  {
   "cell_type": "code",
   "execution_count": null,
   "id": "7b8e9295-784a-45df-9d31-ad4ae4cbb57b",
   "metadata": {},
   "outputs": [],
   "source": []
  }
 ],
 "metadata": {
  "kernelspec": {
   "display_name": "Python 3 (ipykernel)",
   "language": "python",
   "name": "python3"
  },
  "language_info": {
   "codemirror_mode": {
    "name": "ipython",
    "version": 3
   },
   "file_extension": ".py",
   "mimetype": "text/x-python",
   "name": "python",
   "nbconvert_exporter": "python",
   "pygments_lexer": "ipython3",
   "version": "3.13.5"
  }
 },
 "nbformat": 4,
 "nbformat_minor": 5
}
