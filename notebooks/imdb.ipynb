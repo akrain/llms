{
 "cells": [
  {
   "cell_type": "code",
   "execution_count": null,
   "id": "6922d129-5d6d-4895-84ab-a44242942eed",
   "metadata": {},
   "outputs": [],
   "source": [
    "%pip install pandas\n",
    "%pip install matplotlib"
   ]
  },
  {
   "metadata": {},
   "cell_type": "code",
   "outputs": [],
   "execution_count": null,
   "source": [
    "import pandas as pd\n",
    "\n",
    "df = pd.read_csv(\"../data/imdb_top_1000.csv\")\n",
    "len(df)"
   ],
   "id": "f2b1d9d84115faeb"
  },
  {
   "metadata": {},
   "cell_type": "code",
   "outputs": [],
   "execution_count": null,
   "source": "df.head()",
   "id": "71dbd0f556485c89"
  },
  {
   "cell_type": "code",
   "execution_count": null,
   "id": "d0f20fdc-fdb5-4c16-945d-b4e70c560159",
   "metadata": {
    "scrolled": true
   },
   "outputs": [],
   "source": [
    "sample_df = df.sample(n=100, random_state=42)\n",
    "axes = sample_df.plot.scatter(\"Series_Title\", \"IMDB_Rating\", xlabel=None)"
   ]
  },
  {
   "cell_type": "code",
   "execution_count": null,
   "id": "5e2c9d1b-fb8a-4709-8708-d073f23778a5",
   "metadata": {},
   "outputs": [],
   "source": []
  }
 ],
 "metadata": {
  "kernelspec": {
   "display_name": "Python 3 (ipykernel)",
   "language": "python",
   "name": "python3"
  },
  "language_info": {
   "codemirror_mode": {
    "name": "ipython",
    "version": 3
   },
   "file_extension": ".py",
   "mimetype": "text/x-python",
   "name": "python",
   "nbconvert_exporter": "python",
   "pygments_lexer": "ipython3",
   "version": "3.13.5"
  }
 },
 "nbformat": 4,
 "nbformat_minor": 5
}
